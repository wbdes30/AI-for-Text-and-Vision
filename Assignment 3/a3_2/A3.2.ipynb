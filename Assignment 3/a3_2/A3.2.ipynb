{
 "cells": [
  {
   "cell_type": "markdown",
   "metadata": {
    "id": "S9pWsPAt0dCh"
   },
   "source": [
    "# Assignment 3 Part 2 - Find complex answers to medical questions\n",
    "\n",
    "*Submission deadline: Friday 1 November 2024, 11:55pm.*\n",
    "\n",
    "*Assessment marks: 20 marks (20% of the total unit assessment)*\n",
    "\n",
    "Unless a Special Consideration request has been submitted and approved, a 5% penalty (of the total possible mark of the task) will be applied for each day a written report or presentation assessment is not submitted, up until the 7th day (including weekends). After the 7th day, a grade of ‘0’ will be awarded even if the assessment is submitted. For example, if the assignment is worth 8 marks (of the entire unit) and your submission is late by 19 hours (or 23 hours 59 minutes 59 seconds), 0.4 marks (5% of 8 marks) will be deducted. If your submission is late by 24 hours (or 47 hours 59 minutes 59 seconds), 0.8 marks (10% of 8 marks) will be deducted, and so on. The submission time for all uploaded assessments is 11:55 pm. A 1-hour grace period will be provided to students who experience a technical concern. For any late submission of time-sensitive tasks, such as scheduled tests/exams, performance assessments/presentations, and/or scheduled practical assessments/labs, please apply for [Special Consideration](https://students.mq.edu.au/study/assessment-exams/special-consideration).\n",
    "\n",
    "Note that the work submitted should be your own work. For rules of using of AI tools, refer to \"Using Generative AI Tools\" on iLearn.\n",
    "\n",
    "\n",
    "# A note on the use of AI generators\n",
    "In this assignment, we view AI code generators such as copilot, CodeGPT, etc as tools that can help you write code quickly. You are allowed to use these tools, but with some conditions. To understand what you can and what you cannot do, please visit these information pages provided by Macquarie University: \n",
    "\n",
    "Artificial Intelligence Tools and Academic Integrity in FSE - https://bit.ly/3uxgQP4\n",
    "\n",
    "If you choose to use these tools, make the following explicit in your submitted file as comments starting with \"Use of AI generators in this assignment\" explain:\n",
    "\n",
    "* What part of your code is based on the output of such tools,\n",
    "* What tools you used,\n",
    "* What prompts you used to generate the code or text, and\n",
    "* What modifications you made on the generated code or text.\n",
    "\n",
    "\n",
    "This will help us assess your work fairly. If we observe that you have used an AI generator and you do not give the above information, you may face disciplinary action."
   ]
  },
  {
   "cell_type": "markdown",
   "metadata": {},
   "source": [
    "## Objectives of this assignment\n",
    "\n",
    "In assignment 3 you will work on a general answer selection task. Given a question and a list of sentences, the final goal is to predict which of these sentences from the list can be used as part of the answer to the question. Assignment 3 is divided into two parts. Part 1 will help you get familiar with the data, and Part 2 requires you to implement deep neural networks.\n",
    "\n",
    "The data is in the file `train.csv`, which is provided in both GitHub repository and in iLearn. Each row of the file consists of a question ('qtext' column), an answer ('atext' column), and a label ('label' column) that indicates whether the  answer is correctly related to the question (1) or not (0).\n",
    "\n",
    "The following code uses pandas to store the file `train.csv` in a data frame and shows the first few rows of data."
   ]
  },
  {
   "cell_type": "code",
   "execution_count": 1,
   "metadata": {
    "tags": []
   },
   "outputs": [
    {
     "data": {
      "text/html": [
       "<div>\n",
       "<style scoped>\n",
       "    .dataframe tbody tr th:only-of-type {\n",
       "        vertical-align: middle;\n",
       "    }\n",
       "\n",
       "    .dataframe tbody tr th {\n",
       "        vertical-align: top;\n",
       "    }\n",
       "\n",
       "    .dataframe thead th {\n",
       "        text-align: right;\n",
       "    }\n",
       "</style>\n",
       "<table border=\"1\" class=\"dataframe\">\n",
       "  <thead>\n",
       "    <tr style=\"text-align: right;\">\n",
       "      <th></th>\n",
       "      <th>qtext</th>\n",
       "      <th>label</th>\n",
       "      <th>atext</th>\n",
       "    </tr>\n",
       "  </thead>\n",
       "  <tbody>\n",
       "    <tr>\n",
       "      <th>0</th>\n",
       "      <td>What are the symptoms of gastritis?</td>\n",
       "      <td>1</td>\n",
       "      <td>However, the most common symptoms include: Nau...</td>\n",
       "    </tr>\n",
       "    <tr>\n",
       "      <th>1</th>\n",
       "      <td>What are the symptoms of gastritis?</td>\n",
       "      <td>0</td>\n",
       "      <td>var s_context; s_context= s_context || {}; s_c...</td>\n",
       "    </tr>\n",
       "    <tr>\n",
       "      <th>2</th>\n",
       "      <td>What are the symptoms of gastritis?</td>\n",
       "      <td>0</td>\n",
       "      <td>!s_sensitive, chron ID: $('article embeded_mod...</td>\n",
       "    </tr>\n",
       "    <tr>\n",
       "      <th>3</th>\n",
       "      <td>What does the treatment for gastritis involve?</td>\n",
       "      <td>1</td>\n",
       "      <td>Treatment for gastritis usually involves: Taki...</td>\n",
       "    </tr>\n",
       "    <tr>\n",
       "      <th>4</th>\n",
       "      <td>What does the treatment for gastritis involve?</td>\n",
       "      <td>1</td>\n",
       "      <td>Eliminating irritating foods from your diet su...</td>\n",
       "    </tr>\n",
       "  </tbody>\n",
       "</table>\n",
       "</div>"
      ],
      "text/plain": [
       "                                            qtext  label  \\\n",
       "0             What are the symptoms of gastritis?      1   \n",
       "1             What are the symptoms of gastritis?      0   \n",
       "2             What are the symptoms of gastritis?      0   \n",
       "3  What does the treatment for gastritis involve?      1   \n",
       "4  What does the treatment for gastritis involve?      1   \n",
       "\n",
       "                                               atext  \n",
       "0  However, the most common symptoms include: Nau...  \n",
       "1  var s_context; s_context= s_context || {}; s_c...  \n",
       "2  !s_sensitive, chron ID: $('article embeded_mod...  \n",
       "3  Treatment for gastritis usually involves: Taki...  \n",
       "4  Eliminating irritating foods from your diet su...  "
      ]
     },
     "execution_count": 1,
     "metadata": {},
     "output_type": "execute_result"
    }
   ],
   "source": [
    "import pandas as pd\n",
    "dataset = pd.read_csv(\"train.csv\")\n",
    "dataset.head()"
   ]
  },
  {
   "cell_type": "markdown",
   "metadata": {},
   "source": [
    "Note: the left-most index is not part of the data, it is added by ipynb automatically for easy reading. You can also browse the data using Microsoft Excel or similar software."
   ]
  },
  {
   "cell_type": "markdown",
   "metadata": {},
   "source": [
    "# Now let's get started.\n",
    "\n",
    "Use the provided files `train.csv`, `val.csv`, and `test.csv` in the data.zip file for all the tasks below."
   ]
  },
  {
   "cell_type": "markdown",
   "metadata": {},
   "source": [
    "## Instruction\n",
    "* You are required to finish the two tasks below.\n",
    "* You need to write code in this ipynb file.\n",
    "* Your ipynb file needs to include the running outputs of your final code. \n",
    "* **You need to submit this ipynb file, containing your code and outputs, to iLearn.**"
   ]
  },
  {
   "cell_type": "markdown",
   "metadata": {},
   "source": [
    "## Assessment\n",
    "\n",
    "1. We mark based on the correctness of your code, outputs, and coding style. \n",
    "2. We assign 2 marks (1 mark each Task) for good coding style, including but not limited to clean codes, self-explained variable names, good comments that help understand the code, etc.\n",
    "3. We assign 2 marks (1 mark each Task) for correctly feeding data into your model, and correctly training and testing of your models.\n",
    "4. 2 marks will be deducted for the task that does not have outputs or its outputs are incorrect.\n",
    "4. For the remaining detailed marks, please refer to each specific task below. "
   ]
  },
  {
   "cell_type": "markdown",
   "metadata": {
    "id": "9VTTgRnN0dC4"
   },
   "source": [
    "# Task 1 (8 marks): Simple Siamese NN - Contrastive Loss\n",
    "\n",
    "Implement a simple TensorFlow-Keras neural model that meets the following requirements:\n",
    "\n",
    "1. (0.5 marks) An input layer that will accept the tf.idf of paired data. The input of the Siamese network is a pair of data, i.e., (qtext, atext). \n",
    "2. (2 marks) Use two hidden layers and a ReLU activation function. You need to determine the size of the hidden layers in {64, 128, 256} using val data, assuming these two layers use the same hidden size.\n",
    "3. (0.5 marks) Use Euclidean-distance-based contrastive loss to train the model.\n",
    "4. (0.5 marks) Use Sigmoid function for classification.\n",
    "5. (1 mark) Calculate prediction accuracy.\n",
    "6. (1.5 marks) Give an example of failure case, and explain the possible reason and discuss potential solution. \n",
    "7. (1 mark) Good coding style as explained in the above Assessment Section.\n",
    "8. (1 mark) Correctly feeding data into your model, and correctly training and testing of your models.\n",
    "\n",
    "Use the test data to report the final accuracy of your best model."
   ]
  },
  {
   "cell_type": "code",
   "execution_count": 2,
   "metadata": {
    "tags": []
   },
   "outputs": [],
   "source": [
    "from tensorflow.keras.models import Model, Sequential\n",
    "from tensorflow.keras.layers import Input, Dense, Lambda\n",
    "import tensorflow as tf\n",
    "from sklearn.feature_extraction.text import TfidfVectorizer\n",
    "import numpy as np\n",
    "import pandas as pd\n",
    "import keras\n",
    "import keras_tuner as kt\n",
    "import tensorflow.keras.backend as K\n",
    "from sklearn.metrics import accuracy_score\n",
    "\n",
    "# Load the datasets\n",
    "train_df = pd.read_csv(\"train.csv\")\n",
    "val_df = pd.read_csv(\"val.csv\")\n",
    "test_df = pd.read_csv(\"test.csv\")\n",
    "\n",
    "# TF-IDF transformation\n",
    "vectorizer = TfidfVectorizer(max_features=1000)\n",
    "train_qtext = vectorizer.fit_transform(train_df['qtext']).toarray()\n",
    "train_atext = vectorizer.transform(train_df['atext']).toarray()\n",
    "val_qtext = vectorizer.transform(val_df['qtext']).toarray()\n",
    "val_atext = vectorizer.transform(val_df['atext']).toarray()\n",
    "test_qtext = vectorizer.transform(test_df['qtext']).toarray()\n",
    "test_atext = vectorizer.transform(test_df['atext']).toarray()\n",
    "\n",
    "train_labels = train_df['label'].values\n",
    "val_labels = val_df['label'].values\n",
    "test_labels = test_df['label'].values\n",
    "\n",
    "input_shape = train_qtext.shape[1]"
   ]
  },
  {
   "cell_type": "code",
   "execution_count": 3,
   "metadata": {
    "tags": []
   },
   "outputs": [],
   "source": [
    "def euclidean_distance(vectors):\n",
    "    x, y = vectors\n",
    "    return K.sqrt(K.sum(K.square(x - y), axis=1, keepdims=True))\n",
    "\n",
    "def Myloss(margin=1):\n",
    "    \"\"\"Provides 'contrastive_loss' an enclosing scope with variable 'margin'.\n",
    "\n",
    "    Arguments:\n",
    "        margin: Integer, defines the baseline for distance for which pairs\n",
    "                should be classified as dissimilar. - (default is 1).\n",
    "\n",
    "    Returns:\n",
    "        'contrastive_loss' function with data ('margin') attached.\n",
    "    \"\"\"\n",
    "\n",
    "    # Contrastive loss = mean( (1-true_value) * square(prediction) +\n",
    "    #                         true_value * square( max(margin-prediction, 0) ))\n",
    "    def contrastive_loss(y_true, y_pred):\n",
    "        \"\"\"Calculates the contrastive loss.\n",
    "\n",
    "        Arguments:\n",
    "            y_true: List of labels, each label is of type float32.\n",
    "            y_pred: List of predictions of same length as of y_true,\n",
    "                    each label is of type float32.\n",
    "\n",
    "        Returns:\n",
    "            A tensor containing contrastive loss as floating point value.\n",
    "        \"\"\"\n",
    "\n",
    "        square_pred = K.square(y_pred)\n",
    "        margin_square = K.square(K.maximum(margin - (y_pred), 0))\n",
    "        return K.mean((1 - y_true) * 0.5*square_pred + (y_true)*0.5 * margin_square)\n",
    "\n",
    "    return contrastive_loss"
   ]
  },
  {
   "cell_type": "code",
   "execution_count": 4,
   "metadata": {
    "tags": []
   },
   "outputs": [
    {
     "name": "stdout",
     "output_type": "stream",
     "text": [
      "Trial 5 Complete [00h 00m 03s]\n",
      "val_accuracy: 0.5723987221717834\n",
      "\n",
      "Best val_accuracy So Far: 0.5770070552825928\n",
      "Total elapsed time: 00h 00m 21s\n",
      "{'hidden_size': 256}\n"
     ]
    },
    {
     "name": "stderr",
     "output_type": "stream",
     "text": [
      "/Applications/anaconda3/lib/python3.11/site-packages/keras/src/saving/saving_lib.py:576: UserWarning: Skipping variable loading for optimizer 'adam', because it has 2 variables whereas the saved optimizer has 14 variables. \n",
      "  saveable.load_own_variables(weights_store.get(inner_path))\n"
     ]
    },
    {
     "data": {
      "text/html": [
       "<pre style=\"white-space:pre;overflow-x:auto;line-height:normal;font-family:Menlo,'DejaVu Sans Mono',consolas,'Courier New',monospace\"><span style=\"font-weight: bold\">Model: \"functional\"</span>\n",
       "</pre>\n"
      ],
      "text/plain": [
       "\u001b[1mModel: \"functional\"\u001b[0m\n"
      ]
     },
     "metadata": {},
     "output_type": "display_data"
    },
    {
     "data": {
      "text/html": [
       "<pre style=\"white-space:pre;overflow-x:auto;line-height:normal;font-family:Menlo,'DejaVu Sans Mono',consolas,'Courier New',monospace\">┏━━━━━━━━━━━━━━━━━━━━━┳━━━━━━━━━━━━━━━━━━━┳━━━━━━━━━━━━┳━━━━━━━━━━━━━━━━━━━┓\n",
       "┃<span style=\"font-weight: bold\"> Layer (type)        </span>┃<span style=\"font-weight: bold\"> Output Shape      </span>┃<span style=\"font-weight: bold\">    Param # </span>┃<span style=\"font-weight: bold\"> Connected to      </span>┃\n",
       "┡━━━━━━━━━━━━━━━━━━━━━╇━━━━━━━━━━━━━━━━━━━╇━━━━━━━━━━━━╇━━━━━━━━━━━━━━━━━━━┩\n",
       "│ q_input             │ (<span style=\"color: #00d7ff; text-decoration-color: #00d7ff\">None</span>, <span style=\"color: #00af00; text-decoration-color: #00af00\">1000</span>)      │          <span style=\"color: #00af00; text-decoration-color: #00af00\">0</span> │ -                 │\n",
       "│ (<span style=\"color: #0087ff; text-decoration-color: #0087ff\">InputLayer</span>)        │                   │            │                   │\n",
       "├─────────────────────┼───────────────────┼────────────┼───────────────────┤\n",
       "│ a_input             │ (<span style=\"color: #00d7ff; text-decoration-color: #00d7ff\">None</span>, <span style=\"color: #00af00; text-decoration-color: #00af00\">1000</span>)      │          <span style=\"color: #00af00; text-decoration-color: #00af00\">0</span> │ -                 │\n",
       "│ (<span style=\"color: #0087ff; text-decoration-color: #0087ff\">InputLayer</span>)        │                   │            │                   │\n",
       "├─────────────────────┼───────────────────┼────────────┼───────────────────┤\n",
       "│ dense (<span style=\"color: #0087ff; text-decoration-color: #0087ff\">Dense</span>)       │ (<span style=\"color: #00d7ff; text-decoration-color: #00d7ff\">None</span>, <span style=\"color: #00af00; text-decoration-color: #00af00\">256</span>)       │    <span style=\"color: #00af00; text-decoration-color: #00af00\">256,256</span> │ q_input[<span style=\"color: #00af00; text-decoration-color: #00af00\">0</span>][<span style=\"color: #00af00; text-decoration-color: #00af00\">0</span>],    │\n",
       "│                     │                   │            │ a_input[<span style=\"color: #00af00; text-decoration-color: #00af00\">0</span>][<span style=\"color: #00af00; text-decoration-color: #00af00\">0</span>]     │\n",
       "├─────────────────────┼───────────────────┼────────────┼───────────────────┤\n",
       "│ dense_1 (<span style=\"color: #0087ff; text-decoration-color: #0087ff\">Dense</span>)     │ (<span style=\"color: #00d7ff; text-decoration-color: #00d7ff\">None</span>, <span style=\"color: #00af00; text-decoration-color: #00af00\">256</span>)       │     <span style=\"color: #00af00; text-decoration-color: #00af00\">65,792</span> │ dense[<span style=\"color: #00af00; text-decoration-color: #00af00\">0</span>][<span style=\"color: #00af00; text-decoration-color: #00af00\">0</span>],      │\n",
       "│                     │                   │            │ dense[<span style=\"color: #00af00; text-decoration-color: #00af00\">1</span>][<span style=\"color: #00af00; text-decoration-color: #00af00\">0</span>]       │\n",
       "├─────────────────────┼───────────────────┼────────────┼───────────────────┤\n",
       "│ merge_layer         │ (<span style=\"color: #00d7ff; text-decoration-color: #00d7ff\">None</span>, <span style=\"color: #00af00; text-decoration-color: #00af00\">1</span>)         │          <span style=\"color: #00af00; text-decoration-color: #00af00\">0</span> │ dense_1[<span style=\"color: #00af00; text-decoration-color: #00af00\">0</span>][<span style=\"color: #00af00; text-decoration-color: #00af00\">0</span>],    │\n",
       "│ (<span style=\"color: #0087ff; text-decoration-color: #0087ff\">Lambda</span>)            │                   │            │ dense_1[<span style=\"color: #00af00; text-decoration-color: #00af00\">1</span>][<span style=\"color: #00af00; text-decoration-color: #00af00\">0</span>]     │\n",
       "├─────────────────────┼───────────────────┼────────────┼───────────────────┤\n",
       "│ classification_lay… │ (<span style=\"color: #00d7ff; text-decoration-color: #00d7ff\">None</span>, <span style=\"color: #00af00; text-decoration-color: #00af00\">1</span>)         │          <span style=\"color: #00af00; text-decoration-color: #00af00\">2</span> │ merge_layer[<span style=\"color: #00af00; text-decoration-color: #00af00\">0</span>][<span style=\"color: #00af00; text-decoration-color: #00af00\">0</span>] │\n",
       "│ (<span style=\"color: #0087ff; text-decoration-color: #0087ff\">Dense</span>)             │                   │            │                   │\n",
       "└─────────────────────┴───────────────────┴────────────┴───────────────────┘\n",
       "</pre>\n"
      ],
      "text/plain": [
       "┏━━━━━━━━━━━━━━━━━━━━━┳━━━━━━━━━━━━━━━━━━━┳━━━━━━━━━━━━┳━━━━━━━━━━━━━━━━━━━┓\n",
       "┃\u001b[1m \u001b[0m\u001b[1mLayer (type)       \u001b[0m\u001b[1m \u001b[0m┃\u001b[1m \u001b[0m\u001b[1mOutput Shape     \u001b[0m\u001b[1m \u001b[0m┃\u001b[1m \u001b[0m\u001b[1m   Param #\u001b[0m\u001b[1m \u001b[0m┃\u001b[1m \u001b[0m\u001b[1mConnected to     \u001b[0m\u001b[1m \u001b[0m┃\n",
       "┡━━━━━━━━━━━━━━━━━━━━━╇━━━━━━━━━━━━━━━━━━━╇━━━━━━━━━━━━╇━━━━━━━━━━━━━━━━━━━┩\n",
       "│ q_input             │ (\u001b[38;5;45mNone\u001b[0m, \u001b[38;5;34m1000\u001b[0m)      │          \u001b[38;5;34m0\u001b[0m │ -                 │\n",
       "│ (\u001b[38;5;33mInputLayer\u001b[0m)        │                   │            │                   │\n",
       "├─────────────────────┼───────────────────┼────────────┼───────────────────┤\n",
       "│ a_input             │ (\u001b[38;5;45mNone\u001b[0m, \u001b[38;5;34m1000\u001b[0m)      │          \u001b[38;5;34m0\u001b[0m │ -                 │\n",
       "│ (\u001b[38;5;33mInputLayer\u001b[0m)        │                   │            │                   │\n",
       "├─────────────────────┼───────────────────┼────────────┼───────────────────┤\n",
       "│ dense (\u001b[38;5;33mDense\u001b[0m)       │ (\u001b[38;5;45mNone\u001b[0m, \u001b[38;5;34m256\u001b[0m)       │    \u001b[38;5;34m256,256\u001b[0m │ q_input[\u001b[38;5;34m0\u001b[0m][\u001b[38;5;34m0\u001b[0m],    │\n",
       "│                     │                   │            │ a_input[\u001b[38;5;34m0\u001b[0m][\u001b[38;5;34m0\u001b[0m]     │\n",
       "├─────────────────────┼───────────────────┼────────────┼───────────────────┤\n",
       "│ dense_1 (\u001b[38;5;33mDense\u001b[0m)     │ (\u001b[38;5;45mNone\u001b[0m, \u001b[38;5;34m256\u001b[0m)       │     \u001b[38;5;34m65,792\u001b[0m │ dense[\u001b[38;5;34m0\u001b[0m][\u001b[38;5;34m0\u001b[0m],      │\n",
       "│                     │                   │            │ dense[\u001b[38;5;34m1\u001b[0m][\u001b[38;5;34m0\u001b[0m]       │\n",
       "├─────────────────────┼───────────────────┼────────────┼───────────────────┤\n",
       "│ merge_layer         │ (\u001b[38;5;45mNone\u001b[0m, \u001b[38;5;34m1\u001b[0m)         │          \u001b[38;5;34m0\u001b[0m │ dense_1[\u001b[38;5;34m0\u001b[0m][\u001b[38;5;34m0\u001b[0m],    │\n",
       "│ (\u001b[38;5;33mLambda\u001b[0m)            │                   │            │ dense_1[\u001b[38;5;34m1\u001b[0m][\u001b[38;5;34m0\u001b[0m]     │\n",
       "├─────────────────────┼───────────────────┼────────────┼───────────────────┤\n",
       "│ classification_lay… │ (\u001b[38;5;45mNone\u001b[0m, \u001b[38;5;34m1\u001b[0m)         │          \u001b[38;5;34m2\u001b[0m │ merge_layer[\u001b[38;5;34m0\u001b[0m][\u001b[38;5;34m0\u001b[0m] │\n",
       "│ (\u001b[38;5;33mDense\u001b[0m)             │                   │            │                   │\n",
       "└─────────────────────┴───────────────────┴────────────┴───────────────────┘\n"
      ]
     },
     "metadata": {},
     "output_type": "display_data"
    },
    {
     "data": {
      "text/html": [
       "<pre style=\"white-space:pre;overflow-x:auto;line-height:normal;font-family:Menlo,'DejaVu Sans Mono',consolas,'Courier New',monospace\"><span style=\"font-weight: bold\"> Total params: </span><span style=\"color: #00af00; text-decoration-color: #00af00\">322,050</span> (1.23 MB)\n",
       "</pre>\n"
      ],
      "text/plain": [
       "\u001b[1m Total params: \u001b[0m\u001b[38;5;34m322,050\u001b[0m (1.23 MB)\n"
      ]
     },
     "metadata": {},
     "output_type": "display_data"
    },
    {
     "data": {
      "text/html": [
       "<pre style=\"white-space:pre;overflow-x:auto;line-height:normal;font-family:Menlo,'DejaVu Sans Mono',consolas,'Courier New',monospace\"><span style=\"font-weight: bold\"> Trainable params: </span><span style=\"color: #00af00; text-decoration-color: #00af00\">322,050</span> (1.23 MB)\n",
       "</pre>\n"
      ],
      "text/plain": [
       "\u001b[1m Trainable params: \u001b[0m\u001b[38;5;34m322,050\u001b[0m (1.23 MB)\n"
      ]
     },
     "metadata": {},
     "output_type": "display_data"
    },
    {
     "data": {
      "text/html": [
       "<pre style=\"white-space:pre;overflow-x:auto;line-height:normal;font-family:Menlo,'DejaVu Sans Mono',consolas,'Courier New',monospace\"><span style=\"font-weight: bold\"> Non-trainable params: </span><span style=\"color: #00af00; text-decoration-color: #00af00\">0</span> (0.00 B)\n",
       "</pre>\n"
      ],
      "text/plain": [
       "\u001b[1m Non-trainable params: \u001b[0m\u001b[38;5;34m0\u001b[0m (0.00 B)\n"
      ]
     },
     "metadata": {},
     "output_type": "display_data"
    },
    {
     "name": "stdout",
     "output_type": "stream",
     "text": [
      "None\n"
     ]
    }
   ],
   "source": [
    "# Define the Siamese model\n",
    "def build_siamese_model(hp):\n",
    "    hidden_size = hp.Choice('hidden_size', values=[64, 128, 256])\n",
    "\n",
    "    # Input layers for question and answer text\n",
    "    input_q = keras.Input(shape=(train_qtext.shape[1],), name=\"q_input\")\n",
    "    input_a = keras.Input(shape=(train_atext.shape[1],), name=\"a_input\")\n",
    "    \n",
    "    # Shared layers\n",
    "    shared_dense1 = keras.layers.Dense(hidden_size, activation=\"relu\")\n",
    "    shared_dense2 = keras.layers.Dense(hidden_size, activation=\"relu\")\n",
    "    \n",
    "    # Processing both inputs through shared layers\n",
    "    encoded_q = shared_dense1(input_q)\n",
    "    encoded_q = shared_dense2(encoded_q)\n",
    "    \n",
    "    encoded_a = shared_dense1(input_a)\n",
    "    encoded_a = shared_dense2(encoded_a)\n",
    "    \n",
    "    # Output layer with Sigmoid activation for binary classification\n",
    "    merged = Lambda(function=euclidean_distance, output_shape=(1,),name='merge_layer')([encoded_q, encoded_a])\n",
    "    output = Dense(1, activation='sigmoid', name='classification_layer')(merged)\n",
    "    \n",
    "    model = keras.Model(inputs=[input_q, input_a], outputs=output)\n",
    "    model.compile(optimizer=\"adam\", loss=Myloss(margin=1.0), metrics=[\"accuracy\"])\n",
    "    return model\n",
    "\n",
    "# Hyperparameter tuning\n",
    "tuner = kt.BayesianOptimization(\n",
    "    build_siamese_model,\n",
    "    objective=kt.Objective('val_accuracy', 'max'),\n",
    "    max_trials=5,\n",
    "    num_initial_points=2,\n",
    "    overwrite=True) #True to start afresh\n",
    "\n",
    "\n",
    "# Perform the search\n",
    "tuner.search([train_qtext, train_atext], train_labels, \n",
    "             validation_data=([val_qtext, val_atext], val_labels), \n",
    "             epochs=5)\n",
    "\n",
    "topN = 1\n",
    "for x in range(topN):\n",
    "    print(tuner.get_best_hyperparameters(topN)[x].values)\n",
    "    print(tuner.get_best_models(topN)[x].summary())"
   ]
  },
  {
   "cell_type": "code",
   "execution_count": 5,
   "metadata": {
    "tags": []
   },
   "outputs": [
    {
     "name": "stdout",
     "output_type": "stream",
     "text": [
      "\u001b[1m161/161\u001b[0m \u001b[32m━━━━━━━━━━━━━━━━━━━━\u001b[0m\u001b[37m\u001b[0m \u001b[1m0s\u001b[0m 1ms/step\n",
      "Test Accuracy: 0.5402880498248346\n",
      "Question: How does an external catheter help male incontinence?\n",
      "Answer: External catheters.\n",
      "Predicted Label: 0\n",
      "Actual Label: 1\n"
     ]
    }
   ],
   "source": [
    "# Best model and testing\n",
    "best_model = tuner.get_best_models(num_models=1)[0]\n",
    "test_predictions = best_model.predict([test_qtext, test_atext]).argmax(axis=1)\n",
    "test_accuracy = accuracy_score(test_labels, test_predictions)\n",
    "print(\"Test Accuracy:\", test_accuracy)\n",
    "\n",
    "# Example of a failure case\n",
    "sample_idx = np.where(test_predictions != test_labels)[0][0]\n",
    "print(\"Question:\", test_df.iloc[sample_idx]['qtext'])\n",
    "print(\"Answer:\", test_df.iloc[sample_idx]['atext'])\n",
    "print(\"Predicted Label:\", test_predictions[sample_idx])\n",
    "print(\"Actual Label:\", test_labels[sample_idx])"
   ]
  },
  {
   "cell_type": "markdown",
   "metadata": {},
   "source": [
    "Final accuracy of the best Siamese neural network model is approximately 54%.\n",
    "- Possible reason for the displayed failure case: The answer is very brief, and the model may have difficulty addressing the  relationship due to limited contextual information and medical knowledge.\n",
    "- Potential solution: \n",
    "    - Use Pretrained Contextual Embeddings: Instead of TF-IDF, use pretrained embeddings like BERT embeddings, which capture semantic context better and are likely to improve understanding of shorter phrases.\n",
    "    - Fine-tune a Domain-Specific Model: For technical or medical content, fine-tuning on a relevant dataset (e.g., medical texts) might help the model develop a better grasp of the domain-specific terms and implied meanings. This can be achieved by fine-tuning on a medical version of BERT, such as BioBERT, before applying it to the answer selection task."
   ]
  },
  {
   "cell_type": "markdown",
   "metadata": {},
   "source": [
    "# Task 2 (12 marks): Transformer\n",
    "\n",
    "In this task, let's use Transformer to predict whether two sentences are related or not. Implement a simple Transformer neural network that meets the following requirements:\n",
    "\n",
    "1. (1 mark) Each input for this model should be a concatenation of qtext and atext. Use [SEP] to separate qtext and atext, e.g., \"Can high blood pressure bring on heart failure? [SEP] Hypertensive heart disease is the No.\" You need to pad the input to a fixed length. How do you determine a suitable length?\n",
    "2. (1.5 marks) Choose a suitable tokenizer and justify your choice.\n",
    "3. (1 mark) An embedding layer that generates embedding vectors of the sentence text into size 128. Remember to add position embedding.\n",
    "4. (1 mark) One transformer encoder layer, you need to find a hidden dimension in {64, 128, 256}. Use 3 heads in MultiHeadAttention.\n",
    "5. (1 mark) Do we need a transformer decoder layer for this task? If yes, find a hidden dimension in {64, 128, 256} and use 3 heads in MultiHeadAttention. If no, explain why.\n",
    "6. (0.5 marks) 1 hidden layer with size 256 and ReLU activation function.\n",
    "7. (0.5 marks) 1 output layer with size 2 for binary classification to predict whether two inputs are related or not. \n",
    "8. (1 mark) Choose a suitable loss to train the model\n",
    "9. (1 mark) Report your best accuracy on the test split.\n",
    "10. (1.5 marks) Give an example of a failure case, and explain the possible reason and discuss a potential solution.\n",
    "11. (1 mark) Good coding style as explained in the above Assessment Section.\n",
    "12. (1 mark) Correctly feeding data into your model, and correctly training and testing of your models.\n",
    "\n"
   ]
  },
  {
   "cell_type": "code",
   "execution_count": 6,
   "metadata": {
    "tags": []
   },
   "outputs": [],
   "source": [
    "from transformers import BertTokenizer\n",
    "import matplotlib.pyplot as plt\n",
    "\n",
    "# Load dataset\n",
    "train_df = pd.read_csv(\"train.csv\")\n",
    "\n",
    "# Tokenizer setup\n",
    "tokenizer = BertTokenizer.from_pretrained(\"bert-base-uncased\")"
   ]
  },
  {
   "cell_type": "markdown",
   "metadata": {},
   "source": [
    "BERT tokenizer is effective at tokenizing text with special tokens like [SEP], and its vocabulary is optimized for sentence-pair tasks."
   ]
  },
  {
   "cell_type": "code",
   "execution_count": 7,
   "metadata": {},
   "outputs": [
    {
     "data": {
      "image/png": "[encoded data removed]",
      "text/plain": [
       "<Figure size 640x480 with 1 Axes>"
      ]
     },
     "metadata": {},
     "output_type": "display_data"
    }
   ],
   "source": [
    "# Concatenate qtext and atext with a [SEP] token in between\n",
    "texts = train_df['qtext'] + \" [SEP] \" + train_df['atext']\n",
    "\n",
    "# Tokenize texts and get length of each tokenized text\n",
    "token_lengths = [len(tokenizer.encode(text, add_special_tokens=True)) for text in texts]\n",
    "\n",
    "# Calculate percentiles to determine a suitable length\n",
    "percentile_95 = int(pd.Series(token_lengths).quantile(0.95))\n",
    "percentile_97 = int(pd.Series(token_lengths).quantile(0.97))\n",
    "percentile_99 = int(pd.Series(token_lengths).quantile(0.99))\n",
    "\n",
    "# Plotting the distribution\n",
    "plt.hist(token_lengths, bins=30, color='skyblue', edgecolor='black')\n",
    "plt.axvline(percentile_95, color='green', linestyle='--', label=f'95th Percentile: {percentile_95}')\n",
    "plt.axvline(percentile_97, color='green', linestyle='--', label=f'97th Percentile: {percentile_97}')\n",
    "plt.axvline(percentile_99, color='red', linestyle='--', label=f'99th Percentile: {percentile_99}')\n",
    "plt.title(\"Token Length Distribution\")\n",
    "plt.xlabel(\"Number of Tokens\")\n",
    "plt.ylabel(\"Frequency\")\n",
    "plt.legend()\n",
    "plt.show()"
   ]
  },
  {
   "cell_type": "markdown",
   "metadata": {},
   "source": [
    "The difference between the 95th and 97th percentile is not too large, and 141 is not too high, so it is the suitable length."
   ]
  },
  {
   "cell_type": "code",
   "execution_count": 8,
   "metadata": {},
   "outputs": [],
   "source": [
    "# Load and preprocess data\n",
    "train_df = pd.read_csv(\"train.csv\")\n",
    "val_df = pd.read_csv(\"val.csv\")\n",
    "test_df = pd.read_csv(\"test.csv\")\n",
    "\n",
    "max_length = 141\n",
    "def preprocess_text(dataframe, max_length):\n",
    "    concatenated_text = dataframe['qtext'] + \" [SEP] \" + dataframe['atext']\n",
    "    tokenized = tokenizer(\n",
    "        concatenated_text.tolist(),\n",
    "        padding=\"max_length\",\n",
    "        truncation=True,\n",
    "        max_length=max_length,\n",
    "        return_tensors=\"tf\"\n",
    "    )\n",
    "    return tokenized[\"input_ids\"], dataframe[\"label\"].values\n",
    "\n",
    "train_input, train_labels = preprocess_text(train_df, max_length)\n",
    "val_input, val_labels = preprocess_text(val_df, max_length)\n",
    "test_input, test_labels = preprocess_text(test_df, max_length)"
   ]
  },
  {
   "cell_type": "code",
   "execution_count": 10,
   "metadata": {},
   "outputs": [
    {
     "name": "stdout",
     "output_type": "stream",
     "text": [
      "Trial 5 Complete [00h 03m 01s]\n",
      "val_accuracy: 0.617511510848999\n",
      "\n",
      "Best val_accuracy So Far: 0.6424933075904846\n",
      "Total elapsed time: 00h 31m 59s\n"
     ]
    }
   ],
   "source": [
    "from tensorflow.keras.layers import Embedding, Dense, Input, LayerNormalization, MultiHeadAttention, Dropout, Add\n",
    "import keras.ops as ops\n",
    "\n",
    "# Transformer Model\n",
    "def build_transformer_model(hp):\n",
    "    hidden_dim = hp.Choice(\"hidden_dim\", values=[64, 128, 256])\n",
    "    \n",
    "    # Input layer\n",
    "    input_ids = Input(shape=(max_length,), dtype=tf.int32, name=\"input_ids\")\n",
    "    \n",
    "    # Embedding layer with positional encoding\n",
    "    embedding_layer = Embedding(input_dim=tokenizer.vocab_size, output_dim=128)(input_ids)\n",
    "    pos_encoding = ops.arange(start=0, stop=max_length, step=1)\n",
    "    pos_encoding = Embedding(input_dim=max_length, output_dim=128)(pos_encoding)\n",
    "    embedded_input = embedding_layer + pos_encoding\n",
    "    \n",
    "    # Transformer Encoder Layer\n",
    "    attention_output = MultiHeadAttention(num_heads=3, key_dim=hidden_dim)(embedded_input, embedded_input)\n",
    "    attention_output = Add()([embedded_input, attention_output])\n",
    "    attention_output = LayerNormalization()(attention_output)\n",
    "    \n",
    "    # Hidden Layer\n",
    "    hidden_layer = Dense(256, activation=\"relu\")(attention_output[:, 0, :])\n",
    "    \n",
    "    # Output Layer for Binary Classification\n",
    "    output = Dense(2, activation=\"softmax\")(hidden_layer)\n",
    "    \n",
    "    model = tf.keras.Model(inputs=input_ids, outputs=output)\n",
    "    model.compile(optimizer=\"adam\", loss=\"sparse_categorical_crossentropy\", metrics=[\"accuracy\"])\n",
    "    return model\n",
    "\n",
    "# Hyperparameter tuning\n",
    "tuner = kt.BayesianOptimization(\n",
    "    build_transformer_model,\n",
    "    objective=kt.Objective('val_accuracy', 'max'),\n",
    "    max_trials=5,\n",
    "    num_initial_points=2,\n",
    "    overwrite=True) #True to start afresh\n",
    "\n",
    "\n",
    "tuner.search(train_input, train_labels, \n",
    "             validation_data=(val_input, val_labels), \n",
    "             epochs=5)"
   ]
  },
  {
   "cell_type": "markdown",
   "metadata": {},
   "source": [
    "There is no need to add a transformer decoder layer for this task since the decoder is for translation."
   ]
  },
  {
   "cell_type": "code",
   "execution_count": 14,
   "metadata": {},
   "outputs": [
    {
     "name": "stdout",
     "output_type": "stream",
     "text": [
      "\u001b[1m  3/161\u001b[0m \u001b[37m━━━━━━━━━━━━━━━━━━━━\u001b[0m \u001b[1m5s\u001b[0m 35ms/step "
     ]
    },
    {
     "name": "stderr",
     "output_type": "stream",
     "text": [
      "/Applications/anaconda3/lib/python3.11/site-packages/keras/src/saving/saving_lib.py:576: UserWarning: Skipping variable loading for optimizer 'adam', because it has 2 variables whereas the saved optimizer has 32 variables. \n",
      "  saveable.load_own_variables(weights_store.get(inner_path))\n"
     ]
    },
    {
     "name": "stdout",
     "output_type": "stream",
     "text": [
      "\u001b[1m161/161\u001b[0m \u001b[32m━━━━━━━━━━━━━━━━━━━━\u001b[0m\u001b[37m\u001b[0m \u001b[1m5s\u001b[0m 30ms/step\n",
      "Test Accuracy: 0.6105488516932659\n",
      "Question: How does an external catheter help male incontinence?\n",
      "Answer: Lots of men hate the idea of using incontinence products -- so-called adult diapers, urine collection bags, and catheters.\n",
      "Predicted Label: 1\n",
      "Actual Label: 0\n"
     ]
    }
   ],
   "source": [
    "# Best model evaluation\n",
    "best_model = tuner.get_best_models(num_models=1)[0]\n",
    "test_predictions = best_model.predict(test_input).argmax(axis=1)\n",
    "test_accuracy = accuracy_score(test_labels, test_predictions)\n",
    "print(\"Test Accuracy:\", test_accuracy)\n",
    "\n",
    "# Example of a failure case\n",
    "sample_idx = np.where(test_predictions != test_labels)[0][0]\n",
    "print(\"Question:\", test_df.iloc[sample_idx]['qtext'])\n",
    "print(\"Answer:\", test_df.iloc[sample_idx]['atext'])\n",
    "print(\"Predicted Label:\", test_predictions[sample_idx])\n",
    "print(\"Actual Label:\", test_labels[sample_idx])"
   ]
  },
  {
   "cell_type": "markdown",
   "metadata": {},
   "source": [
    "Final accuracy of the best Transformer neural network model is approximately 54%.\n",
    "- Possible reason for the displayed failure case: The model's attention mechanism may be strongly influenced by specific keywords, like \"incontinence\" and \"catheter,\" rather than capturing the meaning of the question, which focuses on the “how” aspect. Transformers can sometimes prioritize keyword similarity over deeper semantic matching.\n",
    "- Potential solution: \n",
    "    - Increase Attention to Question Semantics: Explicitly guide the Transformer’s attention by giving more weight to question tokens.\n",
    "    - Utilize Sentence-BERT (SBERT)"
   ]
  },
  {
   "cell_type": "markdown",
   "metadata": {
    "id": "ppkBsuB_0dC9"
   },
   "source": [
    "# Submission \n",
    "\n",
    "Your submission should consist of this Jupyter notebook with all your code and explanations inserted into the notebook as code/text cells. **The notebook should contain the output of the runs. All code should run without errors. Code with syntax errors or code without output will not be assessed.**\n",
    "\n",
    "**Do not submit multiple files.**\n",
    "\n",
    "Examine the text cells of this notebook so that you can have an idea of how to format text for good visual impact. You can also read this useful [guide to the MarkDown notation](https://daringfireball.net/projects/markdown/syntax),  which explains the format of the text cells."
   ]
  }
 ],
 "metadata": {
  "accelerator": "GPU",
  "colab": {
   "name": "A2_solution.ipynb",
   "provenance": []
  },
  "interpreter": {
   "hash": "a7b63e7410c98f344f02082f10d790581d1dba1eeb1c8fe30f342f6109f0429e"
  },
  "kernelspec": {
   "display_name": "Python 3 (ipykernel)",
   "language": "python",
   "name": "python3"
  },
  "language_info": {
   "codemirror_mode": {
    "name": "ipython",
    "version": 3
   },
   "file_extension": ".py",
   "mimetype": "text/x-python",
   "name": "python",
   "nbconvert_exporter": "python",
   "pygments_lexer": "ipython3",
   "version": "3.11.3"
  }
 },
 "nbformat": 4,
 "nbformat_minor": 4
}
